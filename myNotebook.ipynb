{
 "cells": [
  {
   "cell_type": "code",
   "execution_count": 1,
   "metadata": {},
   "outputs": [],
   "source": [
    "# ライブラリ\n",
    "import requests\n",
    "import datetime\n",
    "import csv\n",
    "from bs4 import BeautifulSoup\n",
    "from urllib.parse import urljoin\n",
    "from time import sleep\n",
    "\n",
    "# アクセス先\n",
    "url = 'https://diamond-rm.net/'\n",
    "\n",
    "# データ保管リスト\n",
    "item_list = []\n",
    "\n",
    "# 新着記事一覧をダウンロード\n",
    "response = requests.get(url)\n",
    "\n",
    "# 新着記事一覧を解析\n",
    "soup = BeautifulSoup(response.text, 'html.parser')\n",
    "\n",
    "# データ抽出 => データ解析時に「div#plist1 div.e」のID属性「plist1」が消去されるのでCSSセレクタを変更\n",
    "for elem in soup.select('main > div:nth-child(2) > div.e'):\n",
    "    # 記事タイトル\n",
    "    item_title = elem.select('a')[1].text\n",
    "    # 記事本文へのURL\n",
    "    item_url = elem.select('a')[1]['href']\n",
    "    # 記事本文をダウンロード\n",
    "    response = requests.get(item_url)\n",
    "    # 記事本文を解析\n",
    "    soup = BeautifulSoup(response.text, 'html.parser')\n",
    "    # 記事発行日\n",
    "    item_date = soup.select('div.pmeta.cf span')[0].text\n",
    "    # カテゴリ\n",
    "    item_category = soup.select('div.pmeta.cf ul.post-categories li:nth-child(1) a')[0].text\n",
    "    # 記事本文を初期化\n",
    "    item_detail = ''\n",
    "    # 記事本文を統合\n",
    "    for val in soup.select('div.wpeditor p'):\n",
    "        item_detail += val.text\n",
    "    # データ保管リストに登録\n",
    "    item_list.append([item_title, item_url, item_date, item_category, item_detail])\n",
    "    # 負荷軽減\n",
    "    sleep(1)\n",
    "\n",
    "# CSVファイル\n",
    "csv_head = ['タイトル', 'URL', '発行日', 'カテゴリ', '本文']\n",
    "csv_date = datetime.datetime.today().strftime('%Y%m%d%H')\n",
    "csv_file = 'article_' + csv_date + '.csv'\n",
    "\n",
    "# CSVファイルにデータ保存\n",
    "with open(csv_file, 'w', errors='ignore') as file:\n",
    "    writer = csv.writer(file, lineterminator='\\n')\n",
    "    writer.writerow(csv_head)\n",
    "    writer.writerows(item_list)"
   ]
  },
  {
   "cell_type": "code",
   "execution_count": null,
   "metadata": {},
   "outputs": [],
   "source": []
  }
 ],
 "metadata": {
  "kernelspec": {
   "display_name": "Python 3",
   "language": "python",
   "name": "python3"
  },
  "language_info": {
   "codemirror_mode": {
    "name": "ipython",
    "version": 3
   },
   "file_extension": ".py",
   "mimetype": "text/x-python",
   "name": "python",
   "nbconvert_exporter": "python",
   "pygments_lexer": "ipython3",
   "version": "3.8.3"
  }
 },
 "nbformat": 4,
 "nbformat_minor": 4
}
